{
 "cells": [
  {
   "cell_type": "code",
   "execution_count": 1,
   "metadata": {},
   "outputs": [],
   "source": [
    "from multilayer_code_dataset import build_multilayer_code_dataset, ArxivImagenetDataset"
   ]
  },
  {
   "cell_type": "code",
   "execution_count": 2,
   "metadata": {},
   "outputs": [
    {
     "name": "stdout",
     "output_type": "stream",
     "text": [
      "whether unconditional:  False\n"
     ]
    }
   ],
   "source": [
    "dataset = ArxivImagenetDataset()"
   ]
  },
  {
   "cell_type": "code",
   "execution_count": 8,
   "metadata": {},
   "outputs": [
    {
     "data": {
      "text/plain": [
       "2011376"
      ]
     },
     "execution_count": 8,
     "metadata": {},
     "output_type": "execute_result"
    }
   ],
   "source": [
    "len(dataset)"
   ]
  },
  {
   "cell_type": "code",
   "execution_count": 12,
   "metadata": {},
   "outputs": [
    {
     "data": {
      "text/plain": [
       "(tensor([[[[ 3880, 15658, 11471,  ...,  2959,  4166,  3828],\n",
       "           [ 1940,  6494,  4842,  ...,  2299, 12939,  5796],\n",
       "           [ 1940, 13154, 12344,  ..., 14187,  2894, 10147],\n",
       "           ...,\n",
       "           [14613,  9569, 14484,  ...,  8805,   217,  4023],\n",
       "           [12638,  1582,  4042,  ..., 10989, 13154,  9364],\n",
       "           [14278, 13116, 12155,  ..., 13716,  7705, 16236]],\n",
       " \n",
       "          [[ 1712, 10207, 10816,  ...,   340,  1228,  2614],\n",
       "           [ 1809,  3424, 10614,  ..., 13828,  5734,  8488],\n",
       "           [ 1809, 10943,  2426,  ..., 11972,   945,  1621],\n",
       "           ...,\n",
       "           [ 1106,  6310,  8374,  ...,  4429,  6796, 10538],\n",
       "           [12638, 10799,  8013,  ..., 14947,  8265, 15812],\n",
       "           [ 6444,  4352,  8997,  ...,   294,  7912,  3737]],\n",
       " \n",
       "          [[11323,  7391, 10516,  ...,  5221,  5750,  9564],\n",
       "           [ 1809,  9348, 11631,  ...,   644,   832, 10868],\n",
       "           [ 1809,  1795, 12905,  ..., 12905,  5979, 12503],\n",
       "           ...,\n",
       "           [15555,  1329,  7522,  ..., 10342, 16289, 11555],\n",
       "           [12638,   166,  2298,  ...,  8844, 16236, 10868],\n",
       "           [ 6444,  6485,  6617,  ...,  4166,   297,  5734]],\n",
       " \n",
       "          ...,\n",
       " \n",
       "          [[14613,  9122,  8131,  ...,  6010, 16095,  9254],\n",
       "           [ 3359,  3990,  3330,  ...,  2283,  4023,  8364],\n",
       "           [ 3780,  6601,  1711,  ...,  7098, 13719, 16232],\n",
       "           ...,\n",
       "           [10283, 11066, 15736,  ..., 16037,   808,  5456],\n",
       "           [10283,  1109,   149,  ..., 14957,  7098,   717],\n",
       "           [10283, 16261,  3241,  ...,  6934,  7808,  4580]],\n",
       " \n",
       "          [[ 9339, 12611, 10321,  ...,  4323, 16376,  7313],\n",
       "           [11049,  3452,  9193,  ...,   448, 11232,  8076],\n",
       "           [11938,  4540, 10062,  ..., 11119, 12646, 12905],\n",
       "           ...,\n",
       "           [15351, 13114,   222,  ..., 13589,  8897,  4966],\n",
       "           [15351,  9145,  3246,  ..., 16267,  8814,  8648],\n",
       "           [15351,  1847,  8888,  ...,  1137,  3512,  6003]],\n",
       " \n",
       "          [[ 9647, 13849, 16111,  ...,  1820,  6085, 10075],\n",
       "           [ 7236,  9986, 14076,  ..., 10481, 13230,   208],\n",
       "           [ 2613, 15465, 14628,  ...,   532, 15524,   752],\n",
       "           ...,\n",
       "           [ 9115,  4819,  1542,  ...,  4023,  8364,   852],\n",
       "           [ 4594,  6186, 12779,  ..., 14096, 14692, 10493],\n",
       "           [ 3880, 12961,  5268,  ...,  8910,  1211,    14]]]]),\n",
       " tensor([999]))"
      ]
     },
     "execution_count": 12,
     "metadata": {},
     "output_type": "execute_result"
    }
   ],
   "source": [
    "dataset[1281166]"
   ]
  },
  {
   "cell_type": "code",
   "execution_count": 2,
   "metadata": {},
   "outputs": [],
   "source": [
    "code_dir=\"/cpfs01/user/cl424408/rq-vae-transformer-main/extracted_codes/imagent_val/rq2048_16x16x8_imagenet_arxiv_withauxloss/in256-rqvae-16x16x8-arxiv-withaux/29072024_055601/epoch30_model/codes\"\n",
    "label_dir=\"/cpfs01/user/cl424408/rq-vae-transformer-main/extracted_codes/imagent_val/rq2048_16x16x8_imagenet_arxiv_withauxloss/in256-rqvae-16x16x8-arxiv-withaux/29072024_055601/epoch30_model/labels\"\n",
    "num_example=51370"
   ]
  },
  {
   "cell_type": "code",
   "execution_count": 3,
   "metadata": {},
   "outputs": [],
   "source": [
    "dataset = build_multilayer_code_dataset(code_dir, label_dir, num_example, True)"
   ]
  },
  {
   "cell_type": "code",
   "execution_count": 15,
   "metadata": {},
   "outputs": [
    {
     "data": {
      "text/plain": [
       "torch.Size([1, 256, 8])"
      ]
     },
     "execution_count": 15,
     "metadata": {},
     "output_type": "execute_result"
    }
   ],
   "source": [
    "dataset[2000][0].reshape(1, -1, 8).shape"
   ]
  },
  {
   "cell_type": "code",
   "execution_count": 4,
   "metadata": {},
   "outputs": [],
   "source": [
    "labels_num={}"
   ]
  },
  {
   "cell_type": "code",
   "execution_count": 20,
   "metadata": {},
   "outputs": [],
   "source": [
    "for i in range(num_example):\n",
    "    label = dataset[i][1]\n",
    "    if label not in labels_num:\n",
    "        labels_num[label] = 1\n",
    "    else:\n",
    "        labels_num[label] += 1"
   ]
  },
  {
   "cell_type": "code",
   "execution_count": null,
   "metadata": {},
   "outputs": [],
   "source": []
  },
  {
   "cell_type": "code",
   "execution_count": null,
   "metadata": {},
   "outputs": [],
   "source": []
  }
 ],
 "metadata": {
  "kernelspec": {
   "display_name": "vlvq",
   "language": "python",
   "name": "python3"
  },
  "language_info": {
   "codemirror_mode": {
    "name": "ipython",
    "version": 3
   },
   "file_extension": ".py",
   "mimetype": "text/x-python",
   "name": "python",
   "nbconvert_exporter": "python",
   "pygments_lexer": "ipython3",
   "version": "3.10.14"
  }
 },
 "nbformat": 4,
 "nbformat_minor": 2
}
